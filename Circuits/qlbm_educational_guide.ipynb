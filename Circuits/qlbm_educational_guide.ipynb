{
 "cells": [
  {
   "cell_type": "markdown",
   "metadata": {},
   "source": [
    "# 1D LBM Animation with Bounce-Back Walls\n",
    "\n",
    "This notebook implements a classical 1D Lattice Boltzmann Method (LBM) with solid walls at each end and animates the density profile as a pulse travels, collides, and reflects."
   ]
  },
  {
   "cell_type": "code",
   "execution_count": null,
   "metadata": {},
   "outputs": [],
   "source": [
    "import numpy as np\n",
    "import matplotlib.pyplot as plt\n",
    "import matplotlib.animation as animation\n",
    "%matplotlib inline"
   ]
  },
  {
   "cell_type": "code",
   "metadata": {},
   "execution_count": null,
   "outputs": [],
   "source": [
    "class ClassicalLBM1D:\n",
    "    def __init__(self, nx, dt=1.0, dx=1.0):\n",
    "        self.nx = nx\n",
    "        self.dt = dt\n",
    "        self.dx = dx\n",
    "        self.velocities = np.array([-1, 1])\n",
    "        self.weights = np.array([0.5, 0.5])\n",
    "        self.f = np.zeros((nx, 2))\n",
    "        self.f_new = np.zeros((nx, 2))\n",
    "        self.density = np.zeros(nx)\n",
    "\n",
    "    def set_initial_condition(self, density_func, velocity_func):\n",
    "        x = np.arange(self.nx)\n",
    "        dens = density_func(x)\n",
    "        vel = velocity_func(x)\n",
    "        self._compute_equilibrium(dens, vel)\n",
    "        self.f = self.f_eq.copy()\n",
    "        self.density = dens.copy()\n",
    "\n",
    "    def _compute_equilibrium(self, dens, vel):\n",
    "        self.f_eq = np.zeros((self.nx, 2))\n",
    "        for i in range(self.nx):\n",
    "            for k, c in enumerate(self.velocities):\n",
    "                self.f_eq[i,k] = self.weights[k] * dens[i] * (1 + c * vel[i])\n",
    "\n",
    "    def streaming(self):\n",
    "        old = self.f.copy()\n",
    "        self.f_new[:] = 0\n",
    "        for k, c in enumerate(self.velocities):\n",
    "            for i in range(self.nx):\n",
    "                src = i - int(c)\n",
    "                if src < 0 or src >= self.nx:\n",
    "                    self.f_new[i,k] = old[i,1-k]\n",
    "                else:\n",
    "                    self.f_new[i,k] = old[src,k]\n",
    "        self.f[:] = self.f_new\n",
    "\n",
    "    def collision(self, tau=1.0):\n",
    "        dens = np.sum(self.f, axis=1)\n",
    "        vel = np.sum(self.f * self.velocities, axis=1) / dens\n",
    "        vel[np.isnan(vel)] = 0\n",
    "        self._compute_equilibrium(dens, vel)\n",
    "        self.f += -(1/tau)*(self.f - self.f_eq)\n",
    "\n",
    "    def one_step_subframes(self, tau=1.2):\n",
    "        self.streaming()\n",
    "        dens_s = np.sum(self.f, axis=1).copy()\n",
    "        self.collision(tau)\n",
    "        dens_c = np.sum(self.f, axis=1).copy()\n",
    "        return dens_s, dens_c\n"
   ]
  },
  {
   "cell_type": "code",
   "metadata": {},
   "execution_count": null,
   "outputs": [],
   "source": [
    "def create_gaussian_pulse(x, center, width, amplitude=1.0):\n",
    "    return amplitude * np.exp(-((x-center)/width)**2)\n",
    "\n",
    "def generate_subframes(nx=64, n_steps=50, tau=1.2):\n",
    "    lbm = ClassicalLBM1D(nx)\n",
    "    lbm.set_initial_condition(\n",
    "        lambda x: create_gaussian_pulse(x, nx//4, 5.0, 2.0),\n",
    "        lambda x: np.full_like(x, 0.2)\n",
    "    )\n",
    "    frames = []\n",
    "    for _ in range(n_steps):\n",
    "        s, c = lbm.one_step_subframes(tau)\n",
    "        frames.append(s)\n",
    "        frames.append(c)\n",
    "    return np.array(frames)\n",
    "\n",
    "subframes = generate_subframes()"
   ]
  },
  {
   "cell_type": "code",
   "metadata": {},
   "execution_count": null,
   "outputs": [],
   "source": [
    "fig, ax = plt.subplots(figsize=(6,3))\n",
    "line, = ax.plot(subframes[0], 'b')\n",
    "ax.set_xlim(0, subframes.shape[1]-1)\n",
    "ax.set_ylim(0, subframes.max()*1.1)\n",
    "ax.set_xlabel('Position')\n",
    "ax.set_ylabel('Density')"
   ]
  },
  {
   "cell_type": "code",
   "metadata": {},
   "execution_count": null,
   "outputs": [],
   "source": [
    "def update(frame):\n",
    "    line.set_ydata(subframes[frame])\n",
    "    ax.set_title(f'Sub-frame {frame+1}/{len(subframes)}')\n",
    "    return line,\n",
    "\n",
    "anim = animation.FuncAnimation(fig, update, frames=len(subframes), interval=100, blit=True)\n",
    "from IPython.display import HTML\n",
    "HTML(anim.to_jshtml())"
   ]
  }
 ],
 "metadata": {
  "kernelspec": {
   "display_name": "Python 3",
   "language": "python",
   "name": "python3"
  },
  "language_info": {
   "name": "python"
  }
 },
 "nbformat": 4,
 "nbformat_minor": 2
}
