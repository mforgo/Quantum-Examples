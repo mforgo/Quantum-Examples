{
 "cells": [
  {
   "cell_type": "code",
   "execution_count": 2,
   "id": "4d2377cf",
   "metadata": {},
   "outputs": [
    {
     "ename": "AccountNotFoundError",
     "evalue": "'Unable to find account.'",
     "output_type": "error",
     "traceback": [
      "\u001b[1;31m---------------------------------------------------------------------------\u001b[0m",
      "\u001b[1;31mAccountNotFoundError\u001b[0m                      Traceback (most recent call last)",
      "Cell \u001b[1;32mIn[2], line 5\u001b[0m\n\u001b[0;32m      3\u001b[0m \u001b[38;5;28;01mif\u001b[39;00m USE_IBM_RUNTIME:\n\u001b[0;32m      4\u001b[0m     \u001b[38;5;28;01mfrom\u001b[39;00m\u001b[38;5;250m \u001b[39m\u001b[38;5;21;01mqiskit_ibm_runtime\u001b[39;00m\u001b[38;5;250m \u001b[39m\u001b[38;5;28;01mimport\u001b[39;00m QiskitRuntimeService, EstimatorV2\n\u001b[1;32m----> 5\u001b[0m     service \u001b[38;5;241m=\u001b[39m \u001b[43mQiskitRuntimeService\u001b[49m\u001b[43m(\u001b[49m\u001b[43m)\u001b[49m\n\u001b[0;32m      6\u001b[0m     estimator \u001b[38;5;241m=\u001b[39m EstimatorV2(service\u001b[38;5;241m=\u001b[39mservice, backend\u001b[38;5;241m=\u001b[39m\u001b[38;5;124m\"\u001b[39m\u001b[38;5;124mibmq_qasm_simulator\u001b[39m\u001b[38;5;124m\"\u001b[39m)\n\u001b[0;32m      7\u001b[0m \u001b[38;5;28;01melse\u001b[39;00m:\n",
      "File \u001b[1;32mc:\\Users\\NTC\\miniconda3\\envs\\ntc\\Lib\\site-packages\\qiskit_ibm_runtime\\qiskit_runtime_service.py:125\u001b[0m, in \u001b[0;36mQiskitRuntimeService.__init__\u001b[1;34m(self, channel, token, url, filename, name, instance, proxies, verify, private_endpoint, url_resolver)\u001b[0m\n\u001b[0;32m     78\u001b[0m \u001b[38;5;250m\u001b[39m\u001b[38;5;124;03m\"\"\"QiskitRuntimeService constructor\u001b[39;00m\n\u001b[0;32m     79\u001b[0m \n\u001b[0;32m     80\u001b[0m \u001b[38;5;124;03mAn account is selected in the following order:\u001b[39;00m\n\u001b[1;32m   (...)\u001b[0m\n\u001b[0;32m    121\u001b[0m \u001b[38;5;124;03m    IBMInputValueError: If an input is invalid.\u001b[39;00m\n\u001b[0;32m    122\u001b[0m \u001b[38;5;124;03m\"\"\"\u001b[39;00m\n\u001b[0;32m    123\u001b[0m \u001b[38;5;28msuper\u001b[39m()\u001b[38;5;241m.\u001b[39m\u001b[38;5;21m__init__\u001b[39m()\n\u001b[1;32m--> 125\u001b[0m \u001b[38;5;28mself\u001b[39m\u001b[38;5;241m.\u001b[39m_account \u001b[38;5;241m=\u001b[39m \u001b[38;5;28;43mself\u001b[39;49m\u001b[38;5;241;43m.\u001b[39;49m\u001b[43m_discover_account\u001b[49m\u001b[43m(\u001b[49m\n\u001b[0;32m    126\u001b[0m \u001b[43m    \u001b[49m\u001b[43mtoken\u001b[49m\u001b[38;5;241;43m=\u001b[39;49m\u001b[43mtoken\u001b[49m\u001b[43m,\u001b[49m\n\u001b[0;32m    127\u001b[0m \u001b[43m    \u001b[49m\u001b[43murl\u001b[49m\u001b[38;5;241;43m=\u001b[39;49m\u001b[43murl\u001b[49m\u001b[43m,\u001b[49m\n\u001b[0;32m    128\u001b[0m \u001b[43m    \u001b[49m\u001b[43minstance\u001b[49m\u001b[38;5;241;43m=\u001b[39;49m\u001b[43minstance\u001b[49m\u001b[43m,\u001b[49m\n\u001b[0;32m    129\u001b[0m \u001b[43m    \u001b[49m\u001b[43mchannel\u001b[49m\u001b[38;5;241;43m=\u001b[39;49m\u001b[43mchannel\u001b[49m\u001b[43m,\u001b[49m\n\u001b[0;32m    130\u001b[0m \u001b[43m    \u001b[49m\u001b[43mfilename\u001b[49m\u001b[38;5;241;43m=\u001b[39;49m\u001b[43mfilename\u001b[49m\u001b[43m,\u001b[49m\n\u001b[0;32m    131\u001b[0m \u001b[43m    \u001b[49m\u001b[43mname\u001b[49m\u001b[38;5;241;43m=\u001b[39;49m\u001b[43mname\u001b[49m\u001b[43m,\u001b[49m\n\u001b[0;32m    132\u001b[0m \u001b[43m    \u001b[49m\u001b[43mproxies\u001b[49m\u001b[38;5;241;43m=\u001b[39;49m\u001b[43mProxyConfiguration\u001b[49m\u001b[43m(\u001b[49m\u001b[38;5;241;43m*\u001b[39;49m\u001b[38;5;241;43m*\u001b[39;49m\u001b[43mproxies\u001b[49m\u001b[43m)\u001b[49m\u001b[43m \u001b[49m\u001b[38;5;28;43;01mif\u001b[39;49;00m\u001b[43m \u001b[49m\u001b[43mproxies\u001b[49m\u001b[43m \u001b[49m\u001b[38;5;28;43;01melse\u001b[39;49;00m\u001b[43m \u001b[49m\u001b[38;5;28;43;01mNone\u001b[39;49;00m\u001b[43m,\u001b[49m\n\u001b[0;32m    133\u001b[0m \u001b[43m    \u001b[49m\u001b[43mverify\u001b[49m\u001b[38;5;241;43m=\u001b[39;49m\u001b[43mverify\u001b[49m\u001b[43m,\u001b[49m\n\u001b[0;32m    134\u001b[0m \u001b[43m\u001b[49m\u001b[43m)\u001b[49m\n\u001b[0;32m    136\u001b[0m \u001b[38;5;28;01mif\u001b[39;00m private_endpoint \u001b[38;5;129;01mis\u001b[39;00m \u001b[38;5;129;01mnot\u001b[39;00m \u001b[38;5;28;01mNone\u001b[39;00m:\n\u001b[0;32m    137\u001b[0m     \u001b[38;5;28mself\u001b[39m\u001b[38;5;241m.\u001b[39m_account\u001b[38;5;241m.\u001b[39mprivate_endpoint \u001b[38;5;241m=\u001b[39m private_endpoint\n",
      "File \u001b[1;32mc:\\Users\\NTC\\miniconda3\\envs\\ntc\\Lib\\site-packages\\qiskit_ibm_runtime\\qiskit_runtime_service.py:229\u001b[0m, in \u001b[0;36mQiskitRuntimeService._discover_account\u001b[1;34m(self, token, url, instance, channel, filename, name, proxies, verify)\u001b[0m\n\u001b[0;32m    227\u001b[0m \u001b[38;5;66;03m# channel is not defined yet, get it from the AccountManager\u001b[39;00m\n\u001b[0;32m    228\u001b[0m \u001b[38;5;28;01mif\u001b[39;00m account \u001b[38;5;129;01mis\u001b[39;00m \u001b[38;5;28;01mNone\u001b[39;00m:\n\u001b[1;32m--> 229\u001b[0m     account \u001b[38;5;241m=\u001b[39m \u001b[43mAccountManager\u001b[49m\u001b[38;5;241;43m.\u001b[39;49m\u001b[43mget\u001b[49m\u001b[43m(\u001b[49m\u001b[43mfilename\u001b[49m\u001b[38;5;241;43m=\u001b[39;49m\u001b[43mfilename\u001b[49m\u001b[43m)\u001b[49m\n\u001b[0;32m    231\u001b[0m \u001b[38;5;28;01mif\u001b[39;00m instance:\n\u001b[0;32m    232\u001b[0m     account\u001b[38;5;241m.\u001b[39minstance \u001b[38;5;241m=\u001b[39m instance\n",
      "File \u001b[1;32mc:\\Users\\NTC\\miniconda3\\envs\\ntc\\Lib\\site-packages\\qiskit_ibm_runtime\\accounts\\management.py:195\u001b[0m, in \u001b[0;36mAccountManager.get\u001b[1;34m(cls, filename, name, channel)\u001b[0m\n\u001b[0;32m    192\u001b[0m     \u001b[38;5;28;01mif\u001b[39;00m account_name \u001b[38;5;129;01min\u001b[39;00m all_config:\n\u001b[0;32m    193\u001b[0m         \u001b[38;5;28;01mreturn\u001b[39;00m Account\u001b[38;5;241m.\u001b[39mfrom_saved_format(all_config[account_name])\n\u001b[1;32m--> 195\u001b[0m \u001b[38;5;28;01mraise\u001b[39;00m AccountNotFoundError(\u001b[38;5;124m\"\u001b[39m\u001b[38;5;124mUnable to find account.\u001b[39m\u001b[38;5;124m\"\u001b[39m)\n",
      "\u001b[1;31mAccountNotFoundError\u001b[0m: 'Unable to find account.'"
     ]
    }
   ],
   "source": [
    "USE_IBM_RUNTIME = True\n",
    "\n",
    "if USE_IBM_RUNTIME:\n",
    "    from qiskit_ibm_runtime import QiskitRuntimeService, EstimatorV2\n",
    "    service = QiskitRuntimeService()\n",
    "    estimator = EstimatorV2(service=service, backend=\"ibmq_qasm_simulator\")\n",
    "else:\n",
    "    from qiskit.primitives import Estimator\n",
    "    estimator = Estimator()\n",
    "\n",
    "from qiskit_nature.second_q.operators import FermionicOp\n",
    "from qiskit_algorithms import VQE\n",
    "from qiskit_algorithms.optimizers import SLSQP\n",
    "from qiskit.primitives import Estimator\n",
    "from qiskit_nature.second_q.circuit.library import HartreeFock, UCCSD\n",
    "from qiskit_nature.second_q.mappers import JordanWignerMapper\n",
    "\n",
    "class MockH2Driver:\n",
    "    def __init__(self):\n",
    "        # tady nic nepotřebujeme\n",
    "        pass\n",
    "    \n",
    "    def run(self):\n",
    "        # Hamiltonian for H2 molecule in STO-3G, 0.735 Å\n",
    "        h2_ferm_op = FermionicOp({\n",
    "            \"+_0 -_0\": -1.252477,\n",
    "            \"+_1 -_1\": -0.475934,\n",
    "            \"+_0 -_1 +_1 -_0\": 0.174349\n",
    "        }, num_spin_orbitals=4)\n",
    "        \n",
    "        # Mock ElectronicStructureProblem-like object\n",
    "        class MockProblem:\n",
    "            def __init__(self, op):\n",
    "                self.second_q_ops = lambda: [op]\n",
    "                self.num_spatial_orbitals = 2\n",
    "                self.num_particles = (1, 1)  # 2 electrons: 1 alpha, 1 beta\n",
    "                self.nuclear_repulsion_energy = 0.713776\n",
    "        \n",
    "        return MockProblem(h2_ferm_op)\n",
    "\n",
    "\n",
    "# Usage\n",
    "driver = MockH2Driver()\n",
    "es_problem = driver.run()\n",
    "ferm_hamiltonian = es_problem.second_q_ops()[0]\n",
    "print(ferm_hamiltonian)\n",
    "\n",
    "mapper = JordanWignerMapper()\n",
    "qubit_op = mapper.map(ferm_hamiltonian)\n",
    "print(qubit_op)\n",
    "\n",
    "# Ansatz: UCCSD with HF initial state\n",
    "ansatz = UCCSD(\n",
    "    es_problem.num_spatial_orbitals,\n",
    "    es_problem.num_particles,\n",
    "    mapper,\n",
    "    initial_state=HartreeFock(\n",
    "        es_problem.num_spatial_orbitals,\n",
    "        es_problem.num_particles,\n",
    "        mapper,\n",
    "    ),\n",
    ")\n",
    "\n",
    "# Optional: decompose gates for clarity\n",
    "ansatz = ansatz.decompose().decompose()\n",
    "\n",
    "# VQE setup\n",
    "vqe = VQE(estimator=Estimator(), ansatz=ansatz, optimizer=SLSQP())\n",
    "vqe.initial_point = [0.0] * ansatz.num_parameters\n",
    "\n",
    "# Run VQE\n",
    "result = vqe.compute_minimum_eigenvalue(qubit_op)\n",
    "\n",
    "# Extract results\n",
    "E_elec = result.eigenvalue.real\n",
    "E_total = E_elec + es_problem.nuclear_repulsion_energy\n",
    "\n",
    "print(f\"Electronic energy: {E_elec:.6f} Ha\")\n",
    "print(f\"Nuclear repulsion: {es_problem.nuclear_repulsion_energy:.6f} Ha\")\n",
    "print(f\"Total energy:     {E_total:.6f} Ha\")\n",
    "\n",
    "# Draw ansatz\n",
    "ansatz.draw(\"mpl\")\n",
    "\n"
   ]
  },
  {
   "cell_type": "code",
   "execution_count": null,
   "id": "a1249d58",
   "metadata": {},
   "outputs": [
    {
     "ename": "ImportError",
     "evalue": "cannot import name 'Aer' from 'qiskit' (/Users/ema/Documents/Python/quantum/Quantum-Examples/qiskit_env/lib/python3.11/site-packages/qiskit/__init__.py)",
     "output_type": "error",
     "traceback": [
      "\u001b[31m---------------------------------------------------------------------------\u001b[39m",
      "\u001b[31mImportError\u001b[39m                               Traceback (most recent call last)",
      "\u001b[36mCell\u001b[39m\u001b[36m \u001b[39m\u001b[32mIn[1]\u001b[39m\u001b[32m, line 1\u001b[39m\n\u001b[32m----> \u001b[39m\u001b[32m1\u001b[39m \u001b[38;5;28;01mfrom\u001b[39;00m\u001b[38;5;250m \u001b[39m\u001b[34;01mqiskit\u001b[39;00m\u001b[38;5;250m \u001b[39m\u001b[38;5;28;01mimport\u001b[39;00m Aer\n\u001b[32m      2\u001b[39m \u001b[38;5;28;01mfrom\u001b[39;00m\u001b[38;5;250m \u001b[39m\u001b[34;01mqiskit\u001b[39;00m\u001b[34;01m.\u001b[39;00m\u001b[34;01mutils\u001b[39;00m\u001b[38;5;250m \u001b[39m\u001b[38;5;28;01mimport\u001b[39;00m QuantumInstance\n\u001b[32m      3\u001b[39m \u001b[38;5;28;01mfrom\u001b[39;00m\u001b[38;5;250m \u001b[39m\u001b[34;01mqiskit\u001b[39;00m\u001b[34;01m.\u001b[39;00m\u001b[34;01malgorithms\u001b[39;00m\u001b[34;01m.\u001b[39;00m\u001b[34;01mminimum_eigensolvers\u001b[39;00m\u001b[38;5;250m \u001b[39m\u001b[38;5;28;01mimport\u001b[39;00m VQE\n",
      "\u001b[31mImportError\u001b[39m: cannot import name 'Aer' from 'qiskit' (/Users/ema/Documents/Python/quantum/Quantum-Examples/qiskit_env/lib/python3.11/site-packages/qiskit/__init__.py)"
     ]
    }
   ],
   "source": []
  },
  {
   "cell_type": "code",
   "execution_count": null,
   "id": "a42ad6c2",
   "metadata": {},
   "outputs": [],
   "source": []
  }
 ],
 "metadata": {
  "kernelspec": {
   "display_name": "ntc",
   "language": "python",
   "name": "python3"
  },
  "language_info": {
   "codemirror_mode": {
    "name": "ipython",
    "version": 3
   },
   "file_extension": ".py",
   "mimetype": "text/x-python",
   "name": "python",
   "nbconvert_exporter": "python",
   "pygments_lexer": "ipython3",
   "version": "3.12.9"
  }
 },
 "nbformat": 4,
 "nbformat_minor": 5
}
