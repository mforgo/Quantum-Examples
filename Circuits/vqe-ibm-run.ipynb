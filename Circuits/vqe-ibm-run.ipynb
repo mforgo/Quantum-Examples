{
 "cells": [
  {
   "cell_type": "code",
   "execution_count": null,
   "id": "4d2377cf",
   "metadata": {},
   "outputs": [
    {
     "name": "stdout",
     "output_type": "stream",
     "text": [
      "Electronic energy: -1.063653 Ha\n"
     ]
    },
    {
     "name": "stderr",
     "output_type": "stream",
     "text": [
      "/Users/ema/Documents/Python/quantum/Quantum-Examples/.qiskit_env/lib/python3.13/site-packages/qiskit/visualization/circuit/matplotlib.py:266: FutureWarning: The default matplotlib drawer scheme will be changed to \"iqp\" in a following release. To silence this warning, specify the current default explicitly as style=\"clifford\", or the new default as style=\"iqp\".\n",
      "  self._style, def_font_ratio = load_style(self._style)\n"
     ]
    },
    {
     "data": {
      "image/png": "[encoded data removed]",
      "text/plain": [
       "<Figure size 287.294x200.667 with 1 Axes>"
      ]
     },
     "execution_count": 2,
     "metadata": {},
     "output_type": "execute_result"
    }
   ],
   "source": [
    "from qiskit_ibm_runtime import QiskitRuntimeService, EstimatorV2\n",
    "service = QiskitRuntimeService()  # přihlášení přes IBM Quantum API token\n",
    "backend = service.least_busy(operational=True, simulator=False)\n",
    "estimator = EstimatorV2(mode=backend)\n",
    "\n",
    "from qiskit_algorithms import VQE\n",
    "from qiskit_algorithms.optimizers import SLSQP\n",
    "from qiskit.circuit.library import TwoLocal\n",
    "from qiskit.quantum_info import SparsePauliOp\n",
    "from qiskit.primitives import Estimator\n",
    "\n",
    "# H2 Hamiltonian 2-qubit STO-3G\n",
    "h2_paulis = [\n",
    "    (\"II\", -1.052373245772859),\n",
    "    (\"ZI\",  0.3979374248431808),\n",
    "    (\"IZ\", -0.3979374248431808),\n",
    "    (\"ZZ\", -0.01128010425623538),\n",
    "    (\"XX\",  0.18093119978423156),\n",
    "    (\"YY\",  0.18093119978423156)\n",
    "]\n",
    "h2_hamiltonian = SparsePauliOp.from_list(h2_paulis)\n",
    "\n",
    "# Jednoduchý ansatz\n",
    "ansatz = TwoLocal(num_qubits=2, rotation_blocks='ry', entanglement_blocks='cz', reps=1)\n",
    "\n",
    "# VQE\n",
    "vqe = VQE(estimator=Estimator(), ansatz=ansatz, optimizer=SLSQP())\n",
    "vqe.initial_point = [0.0] * ansatz.num_parameters\n",
    "\n",
    "result = vqe.compute_minimum_eigenvalue(h2_hamiltonian)\n",
    "\n",
    "print(f\"Electronic energy: {result.eigenvalue.real:.6f} Ha\")\n",
    "\n",
    "# Vizualizace ansatzu\n",
    "ansatz.draw(output='mpl')\n",
    "\n"
   ]
  },
  {
   "cell_type": "code",
   "execution_count": null,
   "id": "38f221f8",
   "metadata": {},
   "outputs": [],
   "source": []
  }
 ],
 "metadata": {
  "kernelspec": {
   "display_name": ".qiskit_env",
   "language": "python",
   "name": "python3"
  },
  "language_info": {
   "codemirror_mode": {
    "name": "ipython",
    "version": 3
   },
   "file_extension": ".py",
   "mimetype": "text/x-python",
   "name": "python",
   "nbconvert_exporter": "python",
   "pygments_lexer": "ipython3",
   "version": "3.13.2"
  }
 },
 "nbformat": 4,
 "nbformat_minor": 5
}
