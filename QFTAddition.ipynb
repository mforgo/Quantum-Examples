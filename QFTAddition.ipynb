{
 "cells": [
  {
   "cell_type": "code",
   "execution_count": 1679,
   "metadata": {},
   "outputs": [
    {
     "data": {
      "text/plain": [
       "'\\nQuantum Addition Circuit\\nKvantový sčítačový obvod\\n\\nThis program simulates a quantum circuit for binary addition using the quantum Fourier transform using Qiskit.\\n\\nAuthor: Michal Forgó\\n\\nTime: 02.12.2025\\n\\nNote: Ensure you have installed the requirements.txt or environment.yml before running this notebook.\\nPoznámka: Před spuštěním tohoto notebooku se ujistěte, že máte nainstalované requiremnts.txt nebo enviroment.yml.\\n'"
      ]
     },
     "execution_count": 1679,
     "metadata": {},
     "output_type": "execute_result"
    }
   ],
   "source": [
    "\"\"\"\n",
    "Quantum Addition Circuit\n",
    "Kvantový sčítačový obvod\n",
    "\n",
    "This program simulates a quantum circuit for binary addition using the quantum Fourier transform using Qiskit.\n",
    "\n",
    "Author: Michal Forgó\n",
    "\n",
    "Time: 02.12.2025\n",
    "\n",
    "Note: Ensure you have installed the requirements.txt or environment.yml before running this notebook.\n",
    "Poznámka: Před spuštěním tohoto notebooku se ujistěte, že máte nainstalované requiremnts.txt nebo enviroment.yml.\n",
    "\"\"\""
   ]
  },
  {
   "cell_type": "code",
   "execution_count": 1680,
   "metadata": {},
   "outputs": [],
   "source": [
    "import math\n",
    "from qiskit import ClassicalRegister, QuantumRegister, QuantumCircuit, transpile\n",
    "from qiskit_aer import AerSimulator\n",
    "from qiskit.visualization import plot_histogram\n",
    "from qiskit.circuit.library import QFT, DraperQFTAdder\n",
    "\n"
   ]
  },
  {
   "cell_type": "code",
   "execution_count": 1681,
   "metadata": {},
   "outputs": [],
   "source": [
    "while True:\n",
    "    # Get two binary numbers (max 7 bits)\n",
    "    # Získejte dvě binární čísla (max 7 bitů)\n",
    "    firstBinaryNumber = input(\"Enter a 7-bit or less binary number: \")\n",
    "    secondBinaryNumber = input(\"Enter another 7-bit or less binary number: \")\n",
    "\n",
    "    # Validate input length and that input contains only 1s or 0s\n",
    "    # Ověření délky vstupu a toho že vstup obsahuje pouze 1 nebo 0\n",
    "    if len(firstBinaryNumber) > 8 or len(secondBinaryNumber) > 8 or \\\n",
    "    not set(firstBinaryNumber).issubset({'0','1'}) or not set(secondBinaryNumber).issubset({'0','1'}):\n",
    "        print(\"Please enter valid inputs. Try again.\")  # Error message / Chybová zpráva\n",
    "    else:\n",
    "        break  # Exit loop if input is valid / Ukončí smyčku, pokud je vstup platný\n",
    "# Binary numbers to add\n",
    "#firstBinaryNumber = \"1010\"  \n",
    "#secondBinaryNumber = \"1010\" \n",
    "\n",
    "# Ensure both numbers have the same length\n",
    "if len(firstBinaryNumber) < len(secondBinaryNumber):\n",
    "    firstBinaryNumber, secondBinaryNumber = secondBinaryNumber, firstBinaryNumber\n",
    "\n",
    "secondBinaryNumber = \"0\" * (len(firstBinaryNumber) - len(secondBinaryNumber)) + secondBinaryNumber\n",
    "maxInputLength = len(firstBinaryNumber)\n",
    "m = maxInputLength + 1"
   ]
  },
  {
   "cell_type": "code",
   "execution_count": 1682,
   "metadata": {},
   "outputs": [],
   "source": [
    "\n",
    "# Quantum registers\n",
    "regA = QuantumRegister(maxInputLength+1, \"regA\")\n",
    "regB = QuantumRegister(maxInputLength+1, \"regB\")\n",
    "regC = ClassicalRegister(maxInputLength + 1, \"regC\")\n",
    "qc = QuantumCircuit(regA, regB, regC, name=\"qc\")\n"
   ]
  },
  {
   "cell_type": "code",
   "execution_count": 1683,
   "metadata": {},
   "outputs": [],
   "source": [
    "\n",
    "# Initialize qubits\n",
    "for idx, val in enumerate(firstBinaryNumber):\n",
    "    if val == \"1\":\n",
    "        qc.x(regA[maxInputLength - (idx + 1)])\n",
    "for idx, val in enumerate(secondBinaryNumber):\n",
    "    if val == \"1\":\n",
    "        qc.x(regB[maxInputLength - (idx + 1)])\n"
   ]
  },
  {
   "cell_type": "code",
   "execution_count": null,
   "metadata": {},
   "outputs": [
    {
     "name": "stdout",
     "output_type": "stream",
     "text": [
      "6 5\n",
      "6 4\n",
      "6 3\n",
      "6 2\n",
      "6 1\n",
      "6 0\n",
      "5 4\n",
      "5 3\n",
      "5 2\n",
      "5 1\n",
      "5 0\n",
      "4 3\n",
      "4 2\n",
      "4 1\n",
      "4 0\n",
      "3 2\n",
      "3 1\n",
      "3 0\n",
      "2 1\n",
      "2 0\n",
      "1 0\n",
      "0 0\n",
      "0 1\n",
      "0 2\n",
      "0 3\n",
      "0 4\n",
      "0 5\n",
      "0 6\n",
      "1 0\n",
      "1 1\n",
      "1 2\n",
      "1 3\n",
      "1 4\n",
      "1 5\n",
      "2 0\n",
      "2 1\n",
      "2 2\n",
      "2 3\n",
      "2 4\n",
      "3 0\n",
      "3 1\n",
      "3 2\n",
      "3 3\n",
      "4 0\n",
      "4 1\n",
      "4 2\n",
      "5 0\n",
      "5 1\n"
     ]
    },
    {
     "data": {
      "text/plain": [
       "'\\n# Decomposed to qfts\\nqc.append(QFT(maxInputLength + 1, do_swaps=False, name=\"qft\").to_gate(), regB[:])\\nqc.barrier()\\n\\nfor j in range(maxInputLength):\\n    for k in range(maxInputLength + 1 - j):\\n         lam = math.pi / (2**k)\\n         qc.cp(lam, regA[j], regB[j+k])\\nqc.barrier()\\n\\nqc.append(QFT(maxInputLength + 1, do_swaps=False, name=\"iqft\").inverse().to_gate(), regB[:])\\nqc.barrier()\\n'"
      ]
     },
     "execution_count": 1684,
     "metadata": {},
     "output_type": "execute_result"
    }
   ],
   "source": [
    "for target in range(maxInputLength, -1, -1):\n",
    "    qc.h(regB[target])\n",
    "    for control in range(target-1, -1, -1):\n",
    "        print(target, control)\n",
    "        qc.cp(math.pi*(2**(control-target)), regB[target], regB[control])\n",
    "qc.barrier()\n",
    "\n",
    "for target in range(maxInputLength):\n",
    "    for control in range(maxInputLength + 1 - target):\n",
    "        print(target, control)\n",
    "        lam = math.pi / (2**control)\n",
    "        qc.cp(lam, regA[target], regB[target+control])\n",
    "qc.barrier()\n",
    "\"\"\"\n",
    "for target in range(maxInputLength + 1):\n",
    "    qc.h(regB[target])\n",
    "    for control in range(target+1, maxInputLength + 1):\n",
    "        qc.cp(-math.pi/(2**(control-target)), regB[control], regB[target])\n",
    "qc.barrier()\n",
    "# Decomposed to qfts\n",
    "qc.append(QFT(maxInputLength + 1, do_swaps=False, name=\"qft\").to_gate(), regB[:])\n",
    "qc.barrier()\n",
    "\n",
    "for j in range(maxInputLength):\n",
    "    for k in range(maxInputLength + 1 - j):\n",
    "         lam = math.pi / (2**k)\n",
    "         qc.cp(lam, regA[j], regB[j+k])\n",
    "qc.barrier()\n",
    "\n",
    "qc.append(QFT(maxInputLength + 1, do_swaps=False, name=\"iqft\").inverse().to_gate(), regB[:])\n",
    "qc.barrier()\n",
    "\"\"\"\n",
    "# Prepared gate\n",
    "#qc.append(DraperQFTAdder(maxInputLength+1), qargs=regA[:] + regB[:])\n"
   ]
  },
  {
   "cell_type": "code",
   "execution_count": 1685,
   "metadata": {},
   "outputs": [
    {
     "name": "stdout",
     "output_type": "stream",
     "text": [
      "0101100\n"
     ]
    },
    {
     "data": {
      "image/png": "[encoded data removed]",
      "text/plain": [
       "<Figure size 640x480 with 1 Axes>"
      ]
     },
     "execution_count": 1685,
     "metadata": {},
     "output_type": "execute_result"
    }
   ],
   "source": [
    "\n",
    "# Measure qubits\n",
    "qc.measure(regB, regC)\n",
    "# Transpile and simulate the circuit\n",
    "simulator = AerSimulator()\n",
    "circ = transpile(qc, simulator)\n",
    "result = simulator.run(circ).result()\n",
    "counts = result.get_counts(circ)\n",
    "\n",
    "# Extract and print the most probable output\n",
    "\n",
    "print(max(counts, key=counts.get))\n",
    "# Draw circuit and plot histogram\n",
    "#qc.decompose(gates_to_decompose=[\"qft\",\"iqft\"]).draw(\"mpl\")\n",
    "plot_histogram(counts, title='QFT Quantum Addition')"
   ]
  }
 ],
 "metadata": {
  "kernelspec": {
   "display_name": "myenv",
   "language": "python",
   "name": "python3"
  },
  "language_info": {
   "codemirror_mode": {
    "name": "ipython",
    "version": 3
   },
   "file_extension": ".py",
   "mimetype": "text/x-python",
   "name": "python",
   "nbconvert_exporter": "python",
   "pygments_lexer": "ipython3",
   "version": "3.12.9"
  }
 },
 "nbformat": 4,
 "nbformat_minor": 2
}
