{
 "cells": [
  {
   "cell_type": "code",
   "execution_count": 46,
   "id": "bdf0643f-a529-4041-a596-94e3ea55bab8",
   "metadata": {},
   "outputs": [
    {
     "data": {
      "text/plain": [
       "'\\nQuantum Addition Circuit\\nKvantový sčítačový obvod\\n\\nThis program simulates a quantum circuit for binary based on the ripple-carry method using Qiskit.\\nTento program simuluje kvantový obvod pro binární sčítání na bázi ripple-carry metody pomocí Qiskitu.\\n\\nAuthor: Michal Forgó\\nAutor: Michal Forgó\\n\\nTime: 02.11.2025\\nČas: 02.11.2025\\n\\nNote: Ensure you have installed the requirements.txt or environment.yml before running this notebook.\\nPoznámka: Před spuštěním tohoto notebooku se ujistěte, že máte nainstalované requiremnts.txt nebo enviroment.yml.\\n'"
      ]
     },
     "execution_count": 46,
     "metadata": {},
     "output_type": "execute_result"
    }
   ],
   "source": [
    "\"\"\"\n",
    "Quantum Addition Circuit\n",
    "Kvantový sčítačový obvod\n",
    "\n",
    "This program simulates a quantum circuit for binary based on the ripple-carry method using Qiskit.\n",
    "Tento program simuluje kvantový obvod pro binární sčítání na bázi ripple-carry metody pomocí Qiskitu.\n",
    "\n",
    "Author: Michal Forgó\n",
    "Autor: Michal Forgó\n",
    "\n",
    "Time: 02.11.2025\n",
    "Čas: 02.11.2025\n",
    "\n",
    "Note: Ensure you have installed the requirements.txt or environment.yml before running this notebook.\n",
    "Poznámka: Před spuštěním tohoto notebooku se ujistěte, že máte nainstalované requiremnts.txt nebo enviroment.yml.\n",
    "\"\"\""
   ]
  },
  {
   "cell_type": "code",
   "execution_count": 47,
   "id": "54f27091-e113-4ab0-a38b-69a18ff62842",
   "metadata": {},
   "outputs": [],
   "source": [
    "# Importing libraries\n",
    "# Importování knihoven\n",
    "from qiskit import ClassicalRegister, QuantumRegister, QuantumCircuit, transpile\n",
    "from qiskit_aer import AerSimulator\n",
    "from qiskit.visualization import plot_histogram"
   ]
  },
  {
   "cell_type": "code",
   "execution_count": 48,
   "id": "c3854906-5096-4f17-a1d5-d29787c273d2",
   "metadata": {},
   "outputs": [],
   "source": [
    "while True:\n",
    "    # Get two binary numbers (max 7 bits)\n",
    "    # Získejte dvě binární čísla (max 7 bitů)\n",
    "    firstBinaryNumber = input(\"Enter a 7-bit or less binary number: \")\n",
    "    secondBinaryNumber = input(\"Enter another 7-bit or less binary number: \")\n",
    "\n",
    "    # Validate input length\n",
    "    # Ověření délky vstupu\n",
    "    if len(firstBinaryNumber) > 8 or len(secondBinaryNumber) > 8:\n",
    "        print(\"Please enter valid inputs. Try again.\")  # Error message / Chybová zpráva\n",
    "    else:\n",
    "        break  # Exit loop if input is valid / Ukončí smyčku, pokud je vstup platný\n",
    "\n",
    "# Determine the maximum input length\n",
    "# Určení maximální délky vstupu\n",
    "maxInputLength = max(len(firstBinaryNumber), len(secondBinaryNumber))"
   ]
  },
  {
   "cell_type": "code",
   "execution_count": 49,
   "id": "c6b27bb1-062f-4e03-b215-60cb3c336d19",
   "metadata": {},
   "outputs": [],
   "source": [
    "'''\n",
    "Initializing registers:\n",
    "- Two quantum registers (regA, regB) for input numbers\n",
    "- One quantum register (regC) for carry bits\n",
    "- One classical register (regD) to store the final sum\n",
    "\n",
    "Inicializace registrů:\n",
    "- Dva kvantové registry (regA, regB) pro vstupní čísla\n",
    "- Jeden kvantový registr (regC) pro přenosové bity\n",
    "- Jeden klasický registr (regD) pro konečný součet\n",
    "'''\n",
    "\n",
    "# Quantum registers for input and calculations\n",
    "# Kvantové registry pro vstup a výpočty\n",
    "regA = QuantumRegister(maxInputLength)        # First number / První číslo\n",
    "regB = QuantumRegister(maxInputLength + 1)    # Second number & sum / Druhé číslo a součet\n",
    "regC = QuantumRegister(maxInputLength)        # Carry bits / Přenosové bity\n",
    "\n",
    "# Classical register for measurement\n",
    "# Klasický registr pro měření\n",
    "regD = ClassicalRegister(maxInputLength + 1)  # Final output / Konečný výstup\n",
    "\n",
    "# Create the quantum circuit\n",
    "# Vytvoření kvantového obvodu\n",
    "qc = QuantumCircuit(regA, regB, regC, regD)"
   ]
  },
  {
   "cell_type": "code",
   "execution_count": null,
   "id": "2424726c",
   "metadata": {},
   "outputs": [
    {
     "name": "stdout",
     "output_type": "stream",
     "text": [
      "01111\n"
     ]
    }
   ],
   "source": [
    "# Setting up the quantum registers to store input values\n",
    "# Nastavení kvantových registrů pro uložení vstupních hodnot\n",
    "for idx, val in enumerate(firstBinaryNumber):\n",
    "    if val == \"1\":\n",
    "        qc.x(regA[len(firstBinaryNumber) - (idx + 1)])  # Apply X gate / Aplikace X brány\n",
    "\n",
    "for idx, val in enumerate(secondBinaryNumber):\n",
    "    if val == \"1\":\n",
    "        qc.x(regB[len(secondBinaryNumber) - (idx + 1)])  # Apply X gate / Aplikace X brány\n",
    "\n",
    "# Implementing carry gate logic for addition\n",
    "# Implementace přenosové brány pro sčítání\n",
    "for i in range(maxInputLength - 1):\n",
    "    qc.ccx(regA[i], regB[i], regC[i + 1])  # Compute carry / Výpočet přenosu\n",
    "    qc.cx(regA[i], regB[i])  # Partial sum / Částečný součet\n",
    "    qc.ccx(regC[i], regB[i], regC[i + 1])  # Update carry / Aktualizace přenosu\n",
    "\n",
    "# Final carry computation using regB[maxInputLength] instead of regC[maxInputLength]\n",
    "# Konečný výpočet přenosu pomocí regB[maxInputLength] místo regC[maxInputLength]\n",
    "qc.ccx(regA[maxInputLength - 1], regB[maxInputLength - 1], regB[maxInputLength])\n",
    "qc.cx(regA[maxInputLength - 1], regB[maxInputLength - 1])\n",
    "qc.ccx(regC[maxInputLength - 1], regB[maxInputLength - 1], regB[maxInputLength])\n",
    "\n",
    "# Undo last carry operation to reset the state\n",
    "# Vrácení poslední přenosové operace pro reset stavu\n",
    "qc.cx(regC[maxInputLength - 1], regB[maxInputLength - 1])\n",
    "\n",
    "# Reverse the carry operations to reset all carry bits to |0>\n",
    "# Reverzní operace přenosu pro reset všech přenosových bitů na |0>\n",
    "for i in range(maxInputLength - 1):\n",
    "    qc.ccx(regC[(maxInputLength - 2) - i], regB[(maxInputLength - 2) - i], regC[(maxInputLength - 1) - i])\n",
    "    qc.cx(regA[(maxInputLength - 2) - i], regB[(maxInputLength - 2) - i])\n",
    "    qc.ccx(regA[(maxInputLength - 2) - i], regB[(maxInputLength - 2) - i], regC[(maxInputLength - 1) - i])\n",
    "    \n",
    "    # These operations act as a sum gate: flips regB if control is |1>\n",
    "    # Tyto operace fungují jako součtová brána: přepínají regB, pokud je řídicí bit |1>\n",
    "    qc.cx(regC[(maxInputLength - 2) - i], regB[(maxInputLength - 2) - i])\n",
    "    qc.cx(regA[(maxInputLength - 2) - i], regB[(maxInputLength - 2) - i])\n",
    "\n",
    "# Measure qubits and store results in the classical register\n",
    "# Měření qubitů a uložení výsledků do klasického registru\n",
    "for i in range(maxInputLength + 1):\n",
    "    qc.measure(regB[i], regD[i])\n",
    "\n",
    "# Transpile circuit for simulation\n",
    "# Překlad obvodu pro simulaci\n",
    "simulator = AerSimulator()\n",
    "circ = transpile(qc, simulator)\n",
    "\n",
    "# Run the circuit and retrieve results\n",
    "# Spuštění obvodu a získání výsledků\n",
    "result = simulator.run(circ).result()\n",
    "counts = result.get_counts(circ)\n",
    "\n",
    "# Plot histogram of measurement results\n",
    "# Vykreslení histogramu měření\n",
    "#plot_histogram(counts, title='Quantum Addition')\n",
    "\n",
    "# Draw the quantum circuit\n",
    "# Vykreslení kvantového obvodu\n",
    "#qc.draw(\"mpl\")\n",
    "\n",
    "# Counts is a dictionary where keys represent measurement results (binary strings)\n",
    "# Counts je slovník, kde klíče představují výsledky měření (binární řetězce)\n",
    "\n",
    "# Extract the keys (measurement outcomes), convert them to a list, and print the first result\n",
    "# Extrahuje klíče (výstupy měření), převede je na seznam a vypíše první výsledek\n",
    "print(list(counts.keys())[0])"
   ]
  }
 ],
 "metadata": {
  "kernelspec": {
   "display_name": "myenv",
   "language": "python",
   "name": "python3"
  },
  "language_info": {
   "codemirror_mode": {
    "name": "ipython",
    "version": 3
   },
   "file_extension": ".py",
   "mimetype": "text/x-python",
   "name": "python",
   "nbconvert_exporter": "python",
   "pygments_lexer": "ipython3",
   "version": "3.12.9"
  }
 },
 "nbformat": 4,
 "nbformat_minor": 5
}
